{
 "cells": [
  {
   "cell_type": "markdown",
   "id": "86e11fb9-757a-4e7a-813d-b145504d68ea",
   "metadata": {},
   "source": [
    "## Direct Inference"
   ]
  },
  {
   "cell_type": "code",
   "execution_count": 41,
   "id": "1fe8d655-2811-479e-9513-41b4c1e4d8d2",
   "metadata": {},
   "outputs": [
    {
     "name": "stdout",
     "output_type": "stream",
     "text": [
      "Prediction: this wine belongs to class_1\n"
     ]
    }
   ],
   "source": [
    "# Libraries Importation\n",
    "import pickle\n",
    "import numpy as np\n",
    "\n",
    "# Load the 3 different models\n",
    "model1 = \"models/DecisionTreeClassifier().pickle\"\n",
    "model2 = \"models/MLPClassifier().pickle\"\n",
    "model3 = \"models/RandomForestClassifier().pickle\"\n",
    "\n",
    "#Input data for testing\n",
    "input_data = [[12.67, 0.98, 2.24, 18.0, 99.0, 2.20, 1.94, 0.30, 1.46, 2.62, 1.23, 3.16, 450.0 ]]\n",
    "\n",
    "# Prediction\n",
    "model = pickle.load(open(model1, 'rb'))\n",
    "prediction = np.array2string(model.predict(data))\n",
    "if prediction==\"[0.]\":\n",
    "    print(\"Prediction: this wine belongs to class_0\")\n",
    "elif prediction==\"[1.]\":\n",
    "    print(\"Prediction: this wine belongs to class_1\")\n",
    "else:\n",
    "    print(\"Predcition: this wine belongs to class_2\")\n",
    "\n"
   ]
  },
  {
   "cell_type": "markdown",
   "id": "ccf99dce-c2c5-4877-a44c-df049a417804",
   "metadata": {},
   "source": [
    "## Inference via Function for flexibility in model selection"
   ]
  },
  {
   "cell_type": "code",
   "execution_count": 42,
   "id": "d5972f88-e3e8-4496-9e05-3f31e720a40b",
   "metadata": {},
   "outputs": [
    {
     "name": "stdout",
     "output_type": "stream",
     "text": [
      "Prediction: this wine belongs to class_1\n"
     ]
    }
   ],
   "source": [
    "# Libraries Importation\n",
    "import pickle\n",
    "import numpy as np\n",
    "\n",
    "# Load the 3 different models\n",
    "model1 = \"models/DecisionTreeClassifier().pickle\"\n",
    "model2 = \"models/MLPClassifier().pickle\"\n",
    "model3 = \"models/RandomForestClassifier().pickle\"\n",
    "\n",
    "#Input data for testing\n",
    "input_data = [[12.67, 0.98, 2.24, 18.0, 99.0, 2.20, 1.94, 0.30, 1.46, 2.62, 1.23, 3.16, 450.0 ]]\n",
    "\n",
    "\n",
    "def pred_func(model_type, input_data):\n",
    "    model = pickle.load(open(model_type, 'rb'))\n",
    "    prediction = np.array2string(model.predict(input_data))\n",
    "    if prediction==\"[0.]\":\n",
    "        print(\"Prediction: this wine belongs to class_0\")\n",
    "    elif prediction==\"[1.]\":\n",
    "        print(\"Prediction: this wine belongs to class_1\")\n",
    "    else:\n",
    "        print(\"Predcition: this wine belongs to class_2\")\n",
    "\n",
    "# Testing our prediction function\n",
    "pred_func(model2, input_data)"
   ]
  },
  {
   "cell_type": "markdown",
   "id": "5b4a9dcb-e70b-4a1c-894f-aa91c31601e2",
   "metadata": {},
   "source": [
    "## Inference via API"
   ]
  },
  {
   "cell_type": "code",
   "execution_count": 30,
   "id": "0e94c964-d068-4ada-8022-fe8b9238521e",
   "metadata": {},
   "outputs": [
    {
     "name": "stdout",
     "output_type": "stream",
     "text": [
      "{\n",
      "  \"response\": [\n",
      "    \"Process Successful\", \n",
      "    \"This wine belongs to class_1\"\n",
      "  ]\n",
      "}\n",
      "\n"
     ]
    }
   ],
   "source": [
    "import requests\n",
    "import json\n",
    "\n",
    "url = 'http://127.0.0.1:5000/api/'\n",
    "\n",
    "#input_data = [[14.34, 1.68, 2.7, 25.0, 98.0, 2.8, 1.31, 0.53, 2.7, 13.0, 0.57, 1.96, 660.0]]\n",
    "#input_data = [[12.93, 3.80, 2.65, 18.6, 102.0, 2.41, 2.41, 0.25, 1.98, 4.50, 1.03, 3.52, 770.0]]\n",
    "input_data = [[12.67, 0.98, 2.24, 18.0, 99.0, 2.20, 1.94, 0.30, 1.46, 2.62, 1.23, 3.16, 450.0 ]]\n",
    "\n",
    "data_json_format = json.dumps(input_data)\n",
    "headers = {'content-type': 'application/json', 'Accept-Charset': 'UTF-8'}\n",
    "r = requests.post(url, data=data_json_format, headers=headers)\n",
    "print(r.text)"
   ]
  },
  {
   "cell_type": "code",
   "execution_count": null,
   "id": "2fc1970c-9c3a-4b7f-a75f-92e0ae305e96",
   "metadata": {},
   "outputs": [],
   "source": []
  }
 ],
 "metadata": {
  "kernelspec": {
   "display_name": "Python 3",
   "language": "python",
   "name": "python3"
  },
  "language_info": {
   "codemirror_mode": {
    "name": "ipython",
    "version": 3
   },
   "file_extension": ".py",
   "mimetype": "text/x-python",
   "name": "python",
   "nbconvert_exporter": "python",
   "pygments_lexer": "ipython3",
   "version": "3.6.13"
  }
 },
 "nbformat": 4,
 "nbformat_minor": 5
}
